{
 "cells": [
  {
   "cell_type": "code",
   "execution_count": 4,
   "metadata": {},
   "outputs": [
    {
     "name": "stdout",
     "output_type": "stream",
     "text": [
      "htanlukoG\n"
     ]
    }
   ],
   "source": [
    "# REverse a string\n",
    "string = 'Gokulnath'\n",
    "print(string[::-1])"
   ]
  },
  {
   "cell_type": "code",
   "execution_count": 1,
   "metadata": {},
   "outputs": [
    {
     "name": "stdout",
     "output_type": "stream",
     "text": [
      "The input string is: Pythonforbeginners is a great source to get started with Python.\n",
      "Count of character 'w' is 1\n",
      "Count of character 'r' is 5\n",
      "Count of character 's' is 4\n",
      "Count of character 'u' is 1\n",
      "Count of character 'h' is 3\n",
      "Count of character ' ' is 9\n",
      "Count of character 't' is 8\n",
      "Count of character 'f' is 1\n",
      "Count of character 'e' is 6\n",
      "Count of character 'n' is 4\n",
      "Count of character 'y' is 2\n",
      "Count of character 'o' is 5\n",
      "Count of character 'g' is 3\n",
      "Count of character 'b' is 1\n",
      "Count of character '.' is 1\n",
      "Count of character 'P' is 2\n",
      "Count of character 'i' is 3\n",
      "Count of character 'c' is 1\n",
      "Count of character 'd' is 1\n",
      "Count of character 'a' is 3\n"
     ]
    }
   ],
   "source": [
    "# Count characters in string\n",
    "string = \"I love programming in python which gives a greater confidence in me\"\n",
    "res = len([ele for ele in string if ele.isalpha()])\n",
    "#res\n",
    "\n",
    "input_string = \"Pythonforbeginners is a great source to get started with Python.\"\n",
    "print(\"The input string is:\", input_string)\n",
    "\n",
    "mySet = set(input_string)\n",
    "for element in mySet:\n",
    "    countOfChar = 0\n",
    "    for character in input_string:\n",
    "        if character == element:\n",
    "            countOfChar += 1\n",
    "    print(f\"Count of character '{element}' is {countOfChar}\")"
   ]
  },
  {
   "cell_type": "code",
   "execution_count": 27,
   "metadata": {},
   "outputs": [
    {
     "name": "stdout",
     "output_type": "stream",
     "text": [
      "58\n"
     ]
    }
   ],
   "source": [
    "# Python3 program to find the count of all unique sub-strings with non-repeating characters\n",
    "\n",
    "# Function to count all unique distinct character substrings\n",
    "def distinctSubstring(P, N):\n",
    "\t# Hashmap to store all substrings\n",
    "\tS = dict()\n",
    "\t# Iterate over all the substrings\n",
    "\tfor i in range(N):\n",
    "\t\t# Boolean array to maintain all characters encountered so far\n",
    "\t\tfreq = [False]*26\n",
    "\t\t# Variable to maintain the substring till current position\n",
    "\t\ts = \"\"\n",
    "\t\tfor j in range(i,N):\n",
    "\t\t\t# Get the position of the character in the string\n",
    "\t\t\tpos = ord(P[j]) - ord('a')\n",
    "\t\t\t# Check if the character is  encountred\n",
    "\t\t\tif (freq[pos] == True):\n",
    "\t\t\t\tbreak\n",
    "\t\t\tfreq[pos] = True\n",
    "\t\t\t# Add the current character to the substring\n",
    "\t\t\ts += P[j]\n",
    "\t\t\t# Insert substring in Hashmap\n",
    "\t\t\tS[s] = 1\n",
    "\treturn len(S)\n",
    "# Driver code\n",
    "S = \"ieufbsfkfyeruig\"\n",
    "N = len(S)\n",
    "print(distinctSubstring(S, N))"
   ]
  },
  {
   "cell_type": "code",
   "execution_count": 31,
   "metadata": {},
   "outputs": [
    {
     "name": "stdout",
     "output_type": "stream",
     "text": [
      "(15, ['b', 'bi', 'big', 'i', 'ig', 'g', 'g', 'ge', 'ges', 'gest', 'e', 'es', 'est', 's', 'st', 't'])\n"
     ]
    }
   ],
   "source": [
    "# My program for the above logic\n",
    "def distinct_substrings(string,length):\n",
    "    sub_strings = []\n",
    "    for i in range (length):\n",
    "        sub_string = ''\n",
    "        for j in range (i,length):\n",
    "            if string[j] in sub_string:\n",
    "                break\n",
    "            sub_string+=string[j]\n",
    "            sub_strings.append(sub_string)\n",
    "    return len(set(sub_strings)), sub_strings\n",
    "\n",
    "print(distinct_substrings(\"biggest\",len(\"biggest\")))"
   ]
  },
  {
   "cell_type": "code",
   "execution_count": 39,
   "metadata": {},
   "outputs": [
    {
     "name": "stdout",
     "output_type": "stream",
     "text": [
      "91\n"
     ]
    }
   ],
   "source": [
    "def sub_strings(string, length):\n",
    "    sub_strings=[]\n",
    "    for i in range (length):\n",
    "        sub_string=''\n",
    "        for j in range(i, length):\n",
    "            sub_string+=string[j]\n",
    "            sub_strings.append(sub_string)\n",
    "    return len(sub_strings)\n",
    "\n",
    "print(sub_strings(\"eifhunwgyo8rg\",len(\"eifhunwgyo8rg\")))"
   ]
  },
  {
   "cell_type": "code",
   "execution_count": 43,
   "metadata": {},
   "outputs": [
    {
     "data": {
      "text/plain": [
       "91"
      ]
     },
     "execution_count": 43,
     "metadata": {},
     "output_type": "execute_result"
    }
   ],
   "source": [
    "def print_all_substrings(string):\n",
    "    n = len(string)\n",
    "    # print(\"All substrings are:\")\n",
    "    # Outer loop for starting index\n",
    "    lis = []\n",
    "    for i in range(n):\n",
    "        # Inner loop for ending index\n",
    "        for j in range(i + 1, n + 1):\n",
    "            # Slice the string from i to j\n",
    "            lis.append(string[i:j])\n",
    "    return lis\n",
    "\n",
    "# Example usage\n",
    "input_string = \"eifhunwgyo8rg\"\n",
    "len(print_all_substrings(input_string))\n"
   ]
  },
  {
   "cell_type": "code",
   "execution_count": 20,
   "metadata": {},
   "outputs": [
    {
     "data": {
      "text/plain": [
       "6"
      ]
     },
     "execution_count": 20,
     "metadata": {},
     "output_type": "execute_result"
    }
   ],
   "source": [
    "# Find the length of the string by removing the punctuations\n",
    "input_string = \"Pythonforbeginners is a great source to get started with !Python.\"\n",
    "def removePunc(string):\n",
    "    for i in string:\n",
    "        if not (i.isalpha()):\n",
    "            string = string.replace(i,\"\")\n",
    "    return string\n",
    "len(removePunc(input_string.split(\" \")[-1]))\n"
   ]
  },
  {
   "cell_type": "code",
   "execution_count": 21,
   "metadata": {},
   "outputs": [
    {
     "data": {
      "text/plain": [
       "['a', 'fun', 'is', 'language', 'python', 'very']"
      ]
     },
     "execution_count": 21,
     "metadata": {},
     "output_type": "execute_result"
    }
   ],
   "source": [
    "# Sort a string using the first letter of each word\n",
    "string = \"python is a very fun language\"\n",
    "words = string.split(\" \")\n",
    "sorted_words = sorted(words)\n",
    "sorted_words"
   ]
  },
  {
   "cell_type": "code",
   "execution_count": null,
   "metadata": {},
   "outputs": [
    {
     "ename": "KeyboardInterrupt",
     "evalue": "",
     "output_type": "error",
     "traceback": [
      "\u001b[1;31m---------------------------------------------------------------------------\u001b[0m",
      "\u001b[1;31mKeyboardInterrupt\u001b[0m                         Traceback (most recent call last)",
      "Cell \u001b[1;32mIn[5], line 7\u001b[0m\n\u001b[0;32m      4\u001b[0m     \u001b[38;5;28;01mreturn\u001b[39;00m \u001b[38;5;124m'\u001b[39m\u001b[38;5;124m'\u001b[39m\u001b[38;5;241m.\u001b[39mjoin(char \u001b[38;5;28;01mfor\u001b[39;00m char \u001b[38;5;129;01min\u001b[39;00m input_string \u001b[38;5;28;01mif\u001b[39;00m char \u001b[38;5;129;01mnot\u001b[39;00m \u001b[38;5;129;01min\u001b[39;00m unique_chars)\n\u001b[0;32m      6\u001b[0m input_string \u001b[38;5;241m=\u001b[39m \u001b[38;5;124m\"\u001b[39m\u001b[38;5;124mgeeks forgeeks\u001b[39m\u001b[38;5;124m\"\u001b[39m\n\u001b[1;32m----> 7\u001b[0m \u001b[43mremove_duplicates\u001b[49m\u001b[43m(\u001b[49m\u001b[43minput_string\u001b[49m\u001b[43m)\u001b[49m\n",
      "Cell \u001b[1;32mIn[5], line 4\u001b[0m, in \u001b[0;36mremove_duplicates\u001b[1;34m(input_string)\u001b[0m\n\u001b[0;32m      2\u001b[0m \u001b[38;5;28;01mdef\u001b[39;00m \u001b[38;5;21mremove_duplicates\u001b[39m(input_string):\n\u001b[0;32m      3\u001b[0m     unique_chars \u001b[38;5;241m=\u001b[39m \u001b[38;5;28mset\u001b[39m(input_string)\n\u001b[1;32m----> 4\u001b[0m     \u001b[38;5;28;01mreturn\u001b[39;00m \u001b[38;5;124;43m'\u001b[39;49m\u001b[38;5;124;43m'\u001b[39;49m\u001b[38;5;241;43m.\u001b[39;49m\u001b[43mjoin\u001b[49m\u001b[43m(\u001b[49m\u001b[43mchar\u001b[49m\u001b[43m \u001b[49m\u001b[38;5;28;43;01mfor\u001b[39;49;00m\u001b[43m \u001b[49m\u001b[43mchar\u001b[49m\u001b[43m \u001b[49m\u001b[38;5;129;43;01min\u001b[39;49;00m\u001b[43m \u001b[49m\u001b[43minput_string\u001b[49m\u001b[43m \u001b[49m\u001b[38;5;28;43;01mif\u001b[39;49;00m\u001b[43m \u001b[49m\u001b[43mchar\u001b[49m\u001b[43m \u001b[49m\u001b[38;5;129;43;01mnot\u001b[39;49;00m\u001b[43m \u001b[49m\u001b[38;5;129;43;01min\u001b[39;49;00m\u001b[43m \u001b[49m\u001b[43munique_chars\u001b[49m\u001b[43m)\u001b[49m\n",
      "Cell \u001b[1;32mIn[5], line 4\u001b[0m, in \u001b[0;36m<genexpr>\u001b[1;34m(.0)\u001b[0m\n\u001b[0;32m      2\u001b[0m \u001b[38;5;28;01mdef\u001b[39;00m \u001b[38;5;21mremove_duplicates\u001b[39m(input_string):\n\u001b[0;32m      3\u001b[0m     unique_chars \u001b[38;5;241m=\u001b[39m \u001b[38;5;28mset\u001b[39m(input_string)\n\u001b[1;32m----> 4\u001b[0m     \u001b[38;5;28;01mreturn\u001b[39;00m \u001b[38;5;124m'\u001b[39m\u001b[38;5;124m'\u001b[39m\u001b[38;5;241m.\u001b[39mjoin\u001b[43m(\u001b[49m\u001b[43mchar\u001b[49m\u001b[43m \u001b[49m\u001b[38;5;28;43;01mfor\u001b[39;49;00m\u001b[43m \u001b[49m\u001b[43mchar\u001b[49m\u001b[43m \u001b[49m\u001b[38;5;129;43;01min\u001b[39;49;00m\u001b[43m \u001b[49m\u001b[43minput_string\u001b[49m\u001b[43m \u001b[49m\u001b[38;5;28;43;01mif\u001b[39;49;00m\u001b[43m \u001b[49m\u001b[43mchar\u001b[49m\u001b[43m \u001b[49m\u001b[38;5;129;43;01mnot\u001b[39;49;00m\u001b[43m \u001b[49m\u001b[38;5;129;43;01min\u001b[39;49;00m\u001b[43m \u001b[49m\u001b[43munique_chars\u001b[49m\u001b[43m)\u001b[49m\n",
      "File \u001b[1;32m~\\AppData\\Roaming\\Python\\Python312\\site-packages\\debugpy\\_vendored\\pydevd\\_pydevd_bundle\\pydevd_frame.py:988\u001b[0m, in \u001b[0;36mPyDBFrame.trace_dispatch\u001b[1;34m(self, frame, event, arg)\u001b[0m\n\u001b[0;32m    986\u001b[0m \u001b[38;5;66;03m# if thread has a suspend flag, we suspend with a busy wait\u001b[39;00m\n\u001b[0;32m    987\u001b[0m \u001b[38;5;28;01mif\u001b[39;00m info\u001b[38;5;241m.\u001b[39mpydev_state \u001b[38;5;241m==\u001b[39m STATE_SUSPEND:\n\u001b[1;32m--> 988\u001b[0m     \u001b[38;5;28;43mself\u001b[39;49m\u001b[38;5;241;43m.\u001b[39;49m\u001b[43mdo_wait_suspend\u001b[49m\u001b[43m(\u001b[49m\u001b[43mthread\u001b[49m\u001b[43m,\u001b[49m\u001b[43m \u001b[49m\u001b[43mframe\u001b[49m\u001b[43m,\u001b[49m\u001b[43m \u001b[49m\u001b[43mevent\u001b[49m\u001b[43m,\u001b[49m\u001b[43m \u001b[49m\u001b[43marg\u001b[49m\u001b[43m)\u001b[49m\n\u001b[0;32m    989\u001b[0m     \u001b[38;5;28;01mreturn\u001b[39;00m \u001b[38;5;28mself\u001b[39m\u001b[38;5;241m.\u001b[39mtrace_dispatch\n\u001b[0;32m    990\u001b[0m \u001b[38;5;28;01melse\u001b[39;00m:\n",
      "File \u001b[1;32m~\\AppData\\Roaming\\Python\\Python312\\site-packages\\debugpy\\_vendored\\pydevd\\_pydevd_bundle\\pydevd_frame.py:165\u001b[0m, in \u001b[0;36mPyDBFrame.do_wait_suspend\u001b[1;34m(self, *args, **kwargs)\u001b[0m\n\u001b[0;32m    164\u001b[0m \u001b[38;5;28;01mdef\u001b[39;00m \u001b[38;5;21mdo_wait_suspend\u001b[39m(\u001b[38;5;28mself\u001b[39m, \u001b[38;5;241m*\u001b[39margs, \u001b[38;5;241m*\u001b[39m\u001b[38;5;241m*\u001b[39mkwargs):\n\u001b[1;32m--> 165\u001b[0m     \u001b[38;5;28;43mself\u001b[39;49m\u001b[38;5;241;43m.\u001b[39;49m\u001b[43m_args\u001b[49m\u001b[43m[\u001b[49m\u001b[38;5;241;43m0\u001b[39;49m\u001b[43m]\u001b[49m\u001b[38;5;241;43m.\u001b[39;49m\u001b[43mdo_wait_suspend\u001b[49m\u001b[43m(\u001b[49m\u001b[38;5;241;43m*\u001b[39;49m\u001b[43margs\u001b[49m\u001b[43m,\u001b[49m\u001b[43m \u001b[49m\u001b[38;5;241;43m*\u001b[39;49m\u001b[38;5;241;43m*\u001b[39;49m\u001b[43mkwargs\u001b[49m\u001b[43m)\u001b[49m\n",
      "File \u001b[1;32m~\\AppData\\Roaming\\Python\\Python312\\site-packages\\debugpy\\_vendored\\pydevd\\pydevd.py:2070\u001b[0m, in \u001b[0;36mPyDB.do_wait_suspend\u001b[1;34m(self, thread, frame, event, arg, exception_type)\u001b[0m\n\u001b[0;32m   2067\u001b[0m             from_this_thread\u001b[38;5;241m.\u001b[39mappend(frame_custom_thread_id)\n\u001b[0;32m   2069\u001b[0m     \u001b[38;5;28;01mwith\u001b[39;00m \u001b[38;5;28mself\u001b[39m\u001b[38;5;241m.\u001b[39m_threads_suspended_single_notification\u001b[38;5;241m.\u001b[39mnotify_thread_suspended(thread_id, thread, stop_reason):\n\u001b[1;32m-> 2070\u001b[0m         keep_suspended \u001b[38;5;241m=\u001b[39m \u001b[38;5;28;43mself\u001b[39;49m\u001b[38;5;241;43m.\u001b[39;49m\u001b[43m_do_wait_suspend\u001b[49m\u001b[43m(\u001b[49m\u001b[43mthread\u001b[49m\u001b[43m,\u001b[49m\u001b[43m \u001b[49m\u001b[43mframe\u001b[49m\u001b[43m,\u001b[49m\u001b[43m \u001b[49m\u001b[43mevent\u001b[49m\u001b[43m,\u001b[49m\u001b[43m \u001b[49m\u001b[43marg\u001b[49m\u001b[43m,\u001b[49m\u001b[43m \u001b[49m\u001b[43msuspend_type\u001b[49m\u001b[43m,\u001b[49m\u001b[43m \u001b[49m\u001b[43mfrom_this_thread\u001b[49m\u001b[43m,\u001b[49m\u001b[43m \u001b[49m\u001b[43mframes_tracker\u001b[49m\u001b[43m)\u001b[49m\n\u001b[0;32m   2072\u001b[0m frames_list \u001b[38;5;241m=\u001b[39m \u001b[38;5;28;01mNone\u001b[39;00m\n\u001b[0;32m   2074\u001b[0m \u001b[38;5;28;01mif\u001b[39;00m keep_suspended:\n\u001b[0;32m   2075\u001b[0m     \u001b[38;5;66;03m# This means that we should pause again after a set next statement.\u001b[39;00m\n",
      "File \u001b[1;32m~\\AppData\\Roaming\\Python\\Python312\\site-packages\\debugpy\\_vendored\\pydevd\\pydevd.py:2106\u001b[0m, in \u001b[0;36mPyDB._do_wait_suspend\u001b[1;34m(self, thread, frame, event, arg, suspend_type, from_this_thread, frames_tracker)\u001b[0m\n\u001b[0;32m   2103\u001b[0m         \u001b[38;5;28mself\u001b[39m\u001b[38;5;241m.\u001b[39m_call_input_hook()\n\u001b[0;32m   2105\u001b[0m     \u001b[38;5;28mself\u001b[39m\u001b[38;5;241m.\u001b[39mprocess_internal_commands()\n\u001b[1;32m-> 2106\u001b[0m     \u001b[43mtime\u001b[49m\u001b[38;5;241;43m.\u001b[39;49m\u001b[43msleep\u001b[49m\u001b[43m(\u001b[49m\u001b[38;5;241;43m0.01\u001b[39;49m\u001b[43m)\u001b[49m\n\u001b[0;32m   2108\u001b[0m \u001b[38;5;28mself\u001b[39m\u001b[38;5;241m.\u001b[39mcancel_async_evaluation(get_current_thread_id(thread), \u001b[38;5;28mstr\u001b[39m(\u001b[38;5;28mid\u001b[39m(frame)))\n\u001b[0;32m   2110\u001b[0m \u001b[38;5;66;03m# process any stepping instructions\u001b[39;00m\n",
      "\u001b[1;31mKeyboardInterrupt\u001b[0m: "
     ]
    }
   ],
   "source": [
    "# Remove duplicate characters from string (Occurence of string)\n",
    "def remove_duplicates(input_string):\n",
    "    unique_chars = set(input_string)\n",
    "    chars = ''.join(char for char in input_string if char not in unique_chars)\n",
    "    return chars\n",
    "\n",
    "input_string = \"geeks forgeeks\"\n",
    "remove_duplicates(input_string)"
   ]
  },
  {
   "cell_type": "code",
   "execution_count": 30,
   "metadata": {},
   "outputs": [
    {
     "name": "stdout",
     "output_type": "stream",
     "text": [
      "<class 'dict'>\n",
      "(1292, 'GameOfThrones')\n"
     ]
    },
    {
     "data": {
      "text/plain": [
       "'GameOfThrones'"
      ]
     },
     "execution_count": 30,
     "metadata": {},
     "output_type": "execute_result"
    }
   ],
   "source": [
    "# Find maximum occuring character in a string\n",
    "Tv = {'BreakingBad': 100, 'GameOfThrones': 1292, 'TMKUC': 88}\n",
    "print(type(Tv))\n",
    "dic = max(zip(Tv.values(),Tv.keys()))\n",
    "print(dic)\n",
    "dic[1]"
   ]
  },
  {
   "cell_type": "code",
   "execution_count": 3,
   "metadata": {},
   "outputs": [
    {
     "data": {
      "text/plain": [
       "'o'"
      ]
     },
     "execution_count": 3,
     "metadata": {},
     "output_type": "execute_result"
    }
   ],
   "source": [
    "# usage of slice operator\n",
    "string = \"gokul\"\n",
    "string[1:2]"
   ]
  },
  {
   "cell_type": "code",
   "execution_count": 6,
   "metadata": {},
   "outputs": [
    {
     "name": "stdout",
     "output_type": "stream",
     "text": [
      "gokul\n"
     ]
    }
   ],
   "source": [
    "import os\n",
    "print(os.getenv(\"my_name\"))"
   ]
  },
  {
   "cell_type": "code",
   "execution_count": null,
   "metadata": {},
   "outputs": [],
   "source": []
  }
 ],
 "metadata": {
  "kernelspec": {
   "display_name": "Python 3",
   "language": "python",
   "name": "python3"
  },
  "language_info": {
   "codemirror_mode": {
    "name": "ipython",
    "version": 3
   },
   "file_extension": ".py",
   "mimetype": "text/x-python",
   "name": "python",
   "nbconvert_exporter": "python",
   "pygments_lexer": "ipython3",
   "version": "3.12.4"
  }
 },
 "nbformat": 4,
 "nbformat_minor": 2
}
