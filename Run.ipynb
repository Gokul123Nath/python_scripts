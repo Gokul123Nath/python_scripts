{
 "cells": [
  {
   "cell_type": "code",
   "execution_count": 1,
   "metadata": {},
   "outputs": [
    {
     "name": "stdout",
     "output_type": "stream",
     "text": [
      "Requirement already satisfied: django in c:\\users\\kgoku\\appdata\\local\\programs\\python\\python312\\lib\\site-packages (5.0.6)\n",
      "Requirement already satisfied: asgiref<4,>=3.7.0 in c:\\users\\kgoku\\appdata\\local\\programs\\python\\python312\\lib\\site-packages (from django) (3.8.1)\n",
      "Requirement already satisfied: sqlparse>=0.3.1 in c:\\users\\kgoku\\appdata\\local\\programs\\python\\python312\\lib\\site-packages (from django) (0.5.0)\n",
      "Requirement already satisfied: tzdata in c:\\users\\kgoku\\appdata\\local\\programs\\python\\python312\\lib\\site-packages (from django) (2024.1)\n",
      "Note: you may need to restart the kernel to use updated packages.\n"
     ]
    }
   ],
   "source": [
    "pip install django"
   ]
  },
  {
   "cell_type": "code",
   "execution_count": 3,
   "metadata": {},
   "outputs": [
    {
     "name": "stdout",
     "output_type": "stream",
     "text": [
      "Requirement already satisfied: Django in c:\\users\\kgoku\\appdata\\local\\programs\\python\\python312\\lib\\site-packages (5.0.6)\n",
      "Requirement already satisfied: asgiref<4,>=3.7.0 in c:\\users\\kgoku\\appdata\\local\\programs\\python\\python312\\lib\\site-packages (from Django) (3.8.1)\n",
      "Requirement already satisfied: sqlparse>=0.3.1 in c:\\users\\kgoku\\appdata\\local\\programs\\python\\python312\\lib\\site-packages (from Django) (0.5.0)\n",
      "Requirement already satisfied: tzdata in c:\\users\\kgoku\\appdata\\local\\programs\\python\\python312\\lib\\site-packages (from Django) (2024.1)\n"
     ]
    }
   ],
   "source": [
    "! python -m pip install Django"
   ]
  },
  {
   "cell_type": "code",
   "execution_count": 6,
   "metadata": {},
   "outputs": [
    {
     "name": "stdout",
     "output_type": "stream",
     "text": [
      "28\n"
     ]
    }
   ],
   "source": [
    "# To find second largest number\n",
    "arr = [29,3,4,5,7,8,28,27,5,6,26]\n",
    "scMax = arr[0]\n",
    "max = arr[1]\n",
    "for i in range(len(arr)):\n",
    "    if arr[i]>max:\n",
    "        scMax = max\n",
    "        max = arr[i]\n",
    "    elif arr[i]>scMax:\n",
    "        scMax = arr[i]\n",
    "print(scMax)\n"
   ]
  },
  {
   "cell_type": "code",
   "execution_count": 14,
   "metadata": {},
   "outputs": [
    {
     "data": {
      "text/plain": [
       "[27, 26, 22, 22, 21, 8, 7, 6, 5, 5, 4, 3]"
      ]
     },
     "execution_count": 14,
     "metadata": {},
     "output_type": "execute_result"
    }
   ],
   "source": [
    "# Bubble sort\n",
    "arr = [21,3,4,5,7,8,22,27,5,22,6,26]\n",
    "for i in range (len(arr)):\n",
    "    for j in range(len(arr)-i-1):\n",
    "        if arr[j+1]>arr[j]:\n",
    "            arr[j+1], arr[j] = arr[j], arr[j+1]\n",
    "arr"
   ]
  },
  {
   "cell_type": "code",
   "execution_count": 17,
   "metadata": {},
   "outputs": [
    {
     "data": {
      "text/plain": [
       "[3, 4, 5, 5, 6, 7, 8, 21, 22, 26, 27]"
      ]
     },
     "execution_count": 17,
     "metadata": {},
     "output_type": "execute_result"
    }
   ],
   "source": [
    "# Selection sort\n",
    "arr = [21,3,4,5,7,8,22,27,5,6,26]\n",
    "for i in range(len(arr)):\n",
    "    min_idx = i\n",
    "    for j in range (i+1,len(arr)):\n",
    "        if arr[j]<arr[min_idx]:\n",
    "            min_idx = j\n",
    "    arr[i], arr[min_idx] = arr[min_idx], arr[i]\n",
    "\n",
    "arr"
   ]
  },
  {
   "cell_type": "code",
   "execution_count": 3,
   "metadata": {},
   "outputs": [
    {
     "data": {
      "text/plain": [
       "[3, 4, 5, 5, 6, 7, 8, 21, 22, 26, 27]"
      ]
     },
     "execution_count": 3,
     "metadata": {},
     "output_type": "execute_result"
    }
   ],
   "source": [
    "# Insertion sort\n",
    "arr = [21,3,4,7,5,8,22,27,5,6,26]\n",
    "for i in range(1,len(arr)):\n",
    "    a = arr[i]\n",
    "    j=i-1\n",
    "    while j>=0 and a<arr[j]:\n",
    "        arr[j+1] = arr[j]\n",
    "        j-=1\n",
    "    arr[j+1] = a \n",
    "\n",
    "arr"
   ]
  },
  {
   "cell_type": "code",
   "execution_count": 4,
   "metadata": {},
   "outputs": [
    {
     "data": {
      "text/plain": [
       "120"
      ]
     },
     "execution_count": 4,
     "metadata": {},
     "output_type": "execute_result"
    }
   ],
   "source": [
    "def factorial(num):\n",
    "    if num==1:\n",
    "        return 1\n",
    "    else:\n",
    "        return num*factorial(num-1)\n",
    "factorial(5)"
   ]
  },
  {
   "cell_type": "code",
   "execution_count": 6,
   "metadata": {},
   "outputs": [
    {
     "data": {
      "text/plain": [
       "3.0"
      ]
     },
     "execution_count": 6,
     "metadata": {},
     "output_type": "execute_result"
    }
   ],
   "source": [
    "9**0.5"
   ]
  },
  {
   "cell_type": "code",
   "execution_count": null,
   "metadata": {},
   "outputs": [],
   "source": []
  }
 ],
 "metadata": {
  "kernelspec": {
   "display_name": "Python 3",
   "language": "python",
   "name": "python3"
  },
  "language_info": {
   "codemirror_mode": {
    "name": "ipython",
    "version": 3
   },
   "file_extension": ".py",
   "mimetype": "text/x-python",
   "name": "python",
   "nbconvert_exporter": "python",
   "pygments_lexer": "ipython3",
   "version": "3.12.3"
  }
 },
 "nbformat": 4,
 "nbformat_minor": 2
}
